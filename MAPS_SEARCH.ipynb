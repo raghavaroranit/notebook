{
 "cells": [
  {
   "cell_type": "code",
   "execution_count": 111,
   "metadata": {
    "scrolled": true
   },
   "outputs": [],
   "source": [
    "import pandas as pd"
   ]
  },
  {
   "cell_type": "code",
   "execution_count": 112,
   "metadata": {},
   "outputs": [],
   "source": [
    "import json"
   ]
  },
  {
   "cell_type": "markdown",
   "metadata": {},
   "source": [
    "## Enter the business Name\n",
    "##### Please use %20 in the place of spaces. Ex -  APPLE%20COMPUTERS"
   ]
  },
  {
   "cell_type": "code",
   "execution_count": 254,
   "metadata": {},
   "outputs": [],
   "source": [
    "inp=''"
   ]
  },
  {
   "cell_type": "markdown",
   "metadata": {},
   "source": [
    "## Enter the API key"
   ]
  },
  {
   "cell_type": "code",
   "execution_count": 259,
   "metadata": {},
   "outputs": [],
   "source": [
    "key=''"
   ]
  },
  {
   "cell_type": "code",
   "execution_count": 255,
   "metadata": {},
   "outputs": [],
   "source": [
    "inputtype='textquery'"
   ]
  },
  {
   "cell_type": "code",
   "execution_count": 256,
   "metadata": {},
   "outputs": [],
   "source": [
    "language='en'"
   ]
  },
  {
   "cell_type": "code",
   "execution_count": 257,
   "metadata": {},
   "outputs": [],
   "source": [
    "fields='place_id,name,business_status'  #types"
   ]
  },
  {
   "cell_type": "code",
   "execution_count": 258,
   "metadata": {},
   "outputs": [],
   "source": [
    "locationbias='circle:2000000@22.5056162,79.0594939'"
   ]
  },
  {
   "cell_type": "markdown",
   "metadata": {},
   "source": [
    "### Findplacefromtext"
   ]
  },
  {
   "cell_type": "code",
   "execution_count": 260,
   "metadata": {},
   "outputs": [],
   "source": [
    "url='''https://maps.googleapis.com/maps/api/place/findplacefromtext/json?input=''' + inp +'''&inputtype='''+inputtype+'''&fields='''+fields+'''&locationbias=''' +  locationbias +'''&key='''+key"
   ]
  },
  {
   "cell_type": "code",
   "execution_count": 261,
   "metadata": {},
   "outputs": [],
   "source": [
    "url_2=url='''https://maps.googleapis.com/maps/api/place/findplacefromtext/json?input=''' + inp +'''&inputtype='''+inputtype+'''&fields='''+fields+'''&key='''+key"
   ]
  },
  {
   "cell_type": "markdown",
   "metadata": {},
   "source": [
    "## Query for text search"
   ]
  },
  {
   "cell_type": "code",
   "execution_count": 262,
   "metadata": {},
   "outputs": [],
   "source": [
    "query='Shrug%20Kurti%20Manufacturer%20in%20Ahmedabad'"
   ]
  },
  {
   "cell_type": "markdown",
   "metadata": {},
   "source": [
    "### Textsearch"
   ]
  },
  {
   "cell_type": "code",
   "execution_count": 263,
   "metadata": {},
   "outputs": [],
   "source": [
    "url_textsearch='https://maps.googleapis.com/maps/api/place/textsearch/json?query='+query+'&radius=200000&location=22.5056162,79.0594939'+'&key='+key"
   ]
  },
  {
   "cell_type": "code",
   "execution_count": 264,
   "metadata": {
    "scrolled": false
   },
   "outputs": [],
   "source": [
    "import urllib.request\n",
    "with urllib.request.urlopen(url) as f:\n",
    "    data=f.read(100000)\n",
    "\n"
   ]
  },
  {
   "cell_type": "code",
   "execution_count": 265,
   "metadata": {},
   "outputs": [],
   "source": [
    "data_json=json.loads(data.decode())"
   ]
  },
  {
   "cell_type": "code",
   "execution_count": 266,
   "metadata": {},
   "outputs": [],
   "source": [
    "final_data=pd.json_normalize(data_json['candidates'])"
   ]
  },
  {
   "cell_type": "markdown",
   "metadata": {},
   "source": [
    "## Places found"
   ]
  },
  {
   "cell_type": "code",
   "execution_count": 267,
   "metadata": {
    "scrolled": true
   },
   "outputs": [
    {
     "data": {
      "text/html": [
       "<div>\n",
       "<style scoped>\n",
       "    .dataframe tbody tr th:only-of-type {\n",
       "        vertical-align: middle;\n",
       "    }\n",
       "\n",
       "    .dataframe tbody tr th {\n",
       "        vertical-align: top;\n",
       "    }\n",
       "\n",
       "    .dataframe thead th {\n",
       "        text-align: right;\n",
       "    }\n",
       "</style>\n",
       "<table border=\"1\" class=\"dataframe\">\n",
       "  <thead>\n",
       "    <tr style=\"text-align: right;\">\n",
       "      <th></th>\n",
       "      <th>business_status</th>\n",
       "      <th>name</th>\n",
       "      <th>obfuscated_type</th>\n",
       "      <th>place_id</th>\n",
       "    </tr>\n",
       "  </thead>\n",
       "  <tbody>\n",
       "    <tr>\n",
       "      <th>0</th>\n",
       "      <td>OPERATIONAL</td>\n",
       "      <td>Haldiram Bhujiawala</td>\n",
       "      <td>[]</td>\n",
       "      <td>ChIJ17RU0MLKmjkRYwUVJU0NeM4</td>\n",
       "    </tr>\n",
       "  </tbody>\n",
       "</table>\n",
       "</div>"
      ],
      "text/plain": [
       "  business_status                 name obfuscated_type  \\\n",
       "0     OPERATIONAL  Haldiram Bhujiawala              []   \n",
       "\n",
       "                      place_id  \n",
       "0  ChIJ17RU0MLKmjkRYwUVJU0NeM4  "
      ]
     },
     "execution_count": 267,
     "metadata": {},
     "output_type": "execute_result"
    }
   ],
   "source": [
    "final_data"
   ]
  },
  {
   "cell_type": "code",
   "execution_count": 268,
   "metadata": {},
   "outputs": [],
   "source": [
    "fields_details='place_id,formatted_phone_number,website'"
   ]
  },
  {
   "cell_type": "code",
   "execution_count": 269,
   "metadata": {},
   "outputs": [],
   "source": [
    "for index, row in final_data.iterrows():\n",
    "    place_id=row['place_id']\n",
    "    url_details='https://maps.googleapis.com/maps/api/place/details/json?place_id='+place_id+'&fields='+fields_details+'&key='+key\n",
    "    "
   ]
  },
  {
   "cell_type": "code",
   "execution_count": 270,
   "metadata": {},
   "outputs": [],
   "source": [
    "with urllib.request.urlopen(url_details) as f:\n",
    "    data_details=f.read(1600)\n"
   ]
  },
  {
   "cell_type": "code",
   "execution_count": 271,
   "metadata": {
    "scrolled": true
   },
   "outputs": [],
   "source": [
    "contact_details=pd.json_normalize(json.loads(data_details.decode()))"
   ]
  },
  {
   "cell_type": "code",
   "execution_count": 272,
   "metadata": {},
   "outputs": [],
   "source": [
    "try:\n",
    "\n",
    "    contact_details_less=contact_details[['result.formatted_phone_number','result.place_id','result.website' ]]\n",
    "    contact_details_less.columns = ['phone','place_id','website']\n",
    "except:\n",
    "    try:\n",
    "        print('Phone not found')\n",
    "        contact_details_less=contact_details[['result.place_id','result.website' ]]\n",
    "        contact_details_less.columns=['place_id','website']\n",
    "        \n",
    "        #contact_details_less['phone'] ='Not found'\n",
    "    except:\n",
    "        contact_details_less=contact_details[['result.place_id' ]]\n",
    "        contact_details_less.columns=['place_id']\n",
    "        print('Website not found')"
   ]
  },
  {
   "cell_type": "markdown",
   "metadata": {},
   "source": [
    "## Place details"
   ]
  },
  {
   "cell_type": "code",
   "execution_count": 273,
   "metadata": {
    "scrolled": true
   },
   "outputs": [
    {
     "data": {
      "text/html": [
       "<div>\n",
       "<style scoped>\n",
       "    .dataframe tbody tr th:only-of-type {\n",
       "        vertical-align: middle;\n",
       "    }\n",
       "\n",
       "    .dataframe tbody tr th {\n",
       "        vertical-align: top;\n",
       "    }\n",
       "\n",
       "    .dataframe thead th {\n",
       "        text-align: right;\n",
       "    }\n",
       "</style>\n",
       "<table border=\"1\" class=\"dataframe\">\n",
       "  <thead>\n",
       "    <tr style=\"text-align: right;\">\n",
       "      <th></th>\n",
       "      <th>business_status</th>\n",
       "      <th>name</th>\n",
       "      <th>obfuscated_type</th>\n",
       "      <th>place_id</th>\n",
       "      <th>phone</th>\n",
       "      <th>website</th>\n",
       "    </tr>\n",
       "  </thead>\n",
       "  <tbody>\n",
       "    <tr>\n",
       "      <th>0</th>\n",
       "      <td>OPERATIONAL</td>\n",
       "      <td>Haldiram Bhujiawala</td>\n",
       "      <td>[]</td>\n",
       "      <td>ChIJ17RU0MLKmjkRYwUVJU0NeM4</td>\n",
       "      <td>070808 01395</td>\n",
       "      <td>http://www.haldiram.com/</td>\n",
       "    </tr>\n",
       "  </tbody>\n",
       "</table>\n",
       "</div>"
      ],
      "text/plain": [
       "  business_status                 name obfuscated_type  \\\n",
       "0     OPERATIONAL  Haldiram Bhujiawala              []   \n",
       "\n",
       "                      place_id         phone                   website  \n",
       "0  ChIJ17RU0MLKmjkRYwUVJU0NeM4  070808 01395  http://www.haldiram.com/  "
      ]
     },
     "execution_count": 273,
     "metadata": {},
     "output_type": "execute_result"
    }
   ],
   "source": [
    "pd.merge(final_data,contact_details_less, on='place_id', how='left' )"
   ]
  }
 ],
 "metadata": {
  "kernelspec": {
   "display_name": "Python 3",
   "language": "python",
   "name": "python3"
  },
  "language_info": {
   "codemirror_mode": {
    "name": "ipython",
    "version": 3
   },
   "file_extension": ".py",
   "mimetype": "text/x-python",
   "name": "python",
   "nbconvert_exporter": "python",
   "pygments_lexer": "ipython3",
   "version": "3.8.3"
  }
 },
 "nbformat": 4,
 "nbformat_minor": 4
}
